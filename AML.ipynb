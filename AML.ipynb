{
 "cells": [
  {
   "cell_type": "markdown",
   "metadata": {},
   "source": [
    "# Housing Price Prediction via Improved Machine Learning Techniques"
   ]
  },
  {
   "cell_type": "markdown",
   "metadata": {},
   "source": [
    "### Importing required packages"
   ]
  },
  {
   "cell_type": "code",
   "execution_count": 3,
   "metadata": {},
   "outputs": [],
   "source": [
    "import numpy as np\n",
    "import pandas as pd\n",
    "from sklearn.preprocessing import StandardScaler, OneHotEncoder\n",
    "from sklearn.compose import ColumnTransformer\n",
    "import matplotlib.pyplot as plt\n",
    "import seaborn as sb\n",
    "from sklearn.model_selection import train_test_split\n",
    "from sklearn.ensemble import RandomForestClassifier\n",
    "from sklearn.metrics import mean_squared_log_error\n",
    "from xgboost import XGBRegressor\n",
    "from lightgbm import LGBMRegressor"
   ]
  },
  {
   "cell_type": "markdown",
   "metadata": {},
   "source": [
    "### Reading the CSV File"
   ]
  },
  {
   "cell_type": "code",
   "execution_count": 4,
   "metadata": {
    "scrolled": false
   },
   "outputs": [],
   "source": [
    "df = pd.read_csv('new.csv',  encoding=\"ISO-8859-1\", low_memory=False)"
   ]
  },
  {
   "cell_type": "markdown",
   "metadata": {},
   "source": [
    "### Reducing the dataset to half"
   ]
  },
  {
   "cell_type": "code",
   "execution_count": 5,
   "metadata": {},
   "outputs": [],
   "source": [
    "df = df.sample(frac = 0.5)"
   ]
  },
  {
   "cell_type": "markdown",
   "metadata": {},
   "source": [
    "### Printing the dataframe"
   ]
  },
  {
   "cell_type": "code",
   "execution_count": 4,
   "metadata": {},
   "outputs": [
    {
     "data": {
      "text/html": [
       "<div>\n",
       "<style scoped>\n",
       "    .dataframe tbody tr th:only-of-type {\n",
       "        vertical-align: middle;\n",
       "    }\n",
       "\n",
       "    .dataframe tbody tr th {\n",
       "        vertical-align: top;\n",
       "    }\n",
       "\n",
       "    .dataframe thead th {\n",
       "        text-align: right;\n",
       "    }\n",
       "</style>\n",
       "<table border=\"1\" class=\"dataframe\">\n",
       "  <thead>\n",
       "    <tr style=\"text-align: right;\">\n",
       "      <th></th>\n",
       "      <th>url</th>\n",
       "      <th>id</th>\n",
       "      <th>Lng</th>\n",
       "      <th>Lat</th>\n",
       "      <th>Cid</th>\n",
       "      <th>tradeTime</th>\n",
       "      <th>DOM</th>\n",
       "      <th>followers</th>\n",
       "      <th>totalPrice</th>\n",
       "      <th>price</th>\n",
       "      <th>...</th>\n",
       "      <th>buildingType</th>\n",
       "      <th>constructionTime</th>\n",
       "      <th>renovationCondition</th>\n",
       "      <th>buildingStructure</th>\n",
       "      <th>ladderRatio</th>\n",
       "      <th>elevator</th>\n",
       "      <th>fiveYearsProperty</th>\n",
       "      <th>subway</th>\n",
       "      <th>district</th>\n",
       "      <th>communityAverage</th>\n",
       "    </tr>\n",
       "  </thead>\n",
       "  <tbody>\n",
       "    <tr>\n",
       "      <th>309684</th>\n",
       "      <td>https://bj.lianjia.com/chengjiao/BJXC89372105....</td>\n",
       "      <td>BJXC89372105</td>\n",
       "      <td>116.360016</td>\n",
       "      <td>39.939659</td>\n",
       "      <td>1111027375999</td>\n",
       "      <td>2015-05-23</td>\n",
       "      <td>1.0</td>\n",
       "      <td>6</td>\n",
       "      <td>349.0</td>\n",
       "      <td>55840</td>\n",
       "      <td>...</td>\n",
       "      <td>3.0</td>\n",
       "      <td>1998</td>\n",
       "      <td>4</td>\n",
       "      <td>6</td>\n",
       "      <td>0.200</td>\n",
       "      <td>0.0</td>\n",
       "      <td>1.0</td>\n",
       "      <td>1.0</td>\n",
       "      <td>10</td>\n",
       "      <td>96915.0</td>\n",
       "    </tr>\n",
       "    <tr>\n",
       "      <th>175989</th>\n",
       "      <td>https://bj.lianjia.com/chengjiao/BJCY90221925....</td>\n",
       "      <td>BJCY90221925</td>\n",
       "      <td>116.509143</td>\n",
       "      <td>39.925387</td>\n",
       "      <td>1111027375038</td>\n",
       "      <td>2015-11-07</td>\n",
       "      <td>NaN</td>\n",
       "      <td>5</td>\n",
       "      <td>412.0</td>\n",
       "      <td>31346</td>\n",
       "      <td>...</td>\n",
       "      <td>1.0</td>\n",
       "      <td>2011</td>\n",
       "      <td>3</td>\n",
       "      <td>6</td>\n",
       "      <td>0.300</td>\n",
       "      <td>1.0</td>\n",
       "      <td>0.0</td>\n",
       "      <td>1.0</td>\n",
       "      <td>7</td>\n",
       "      <td>56336.0</td>\n",
       "    </tr>\n",
       "    <tr>\n",
       "      <th>134816</th>\n",
       "      <td>https://bj.lianjia.com/chengjiao/BJCY85306798....</td>\n",
       "      <td>BJCY85306798</td>\n",
       "      <td>116.443161</td>\n",
       "      <td>39.923710</td>\n",
       "      <td>1111027377158</td>\n",
       "      <td>2013-01-15</td>\n",
       "      <td>NaN</td>\n",
       "      <td>0</td>\n",
       "      <td>898.0</td>\n",
       "      <td>40217</td>\n",
       "      <td>...</td>\n",
       "      <td>1.0</td>\n",
       "      <td>2000</td>\n",
       "      <td>1</td>\n",
       "      <td>6</td>\n",
       "      <td>0.400</td>\n",
       "      <td>1.0</td>\n",
       "      <td>1.0</td>\n",
       "      <td>1.0</td>\n",
       "      <td>7</td>\n",
       "      <td>50884.0</td>\n",
       "    </tr>\n",
       "    <tr>\n",
       "      <th>114098</th>\n",
       "      <td>https://bj.lianjia.com/chengjiao/BJCP90979896....</td>\n",
       "      <td>BJCP90979896</td>\n",
       "      <td>116.336897</td>\n",
       "      <td>40.062254</td>\n",
       "      <td>1111027379085</td>\n",
       "      <td>2015-11-25</td>\n",
       "      <td>1.0</td>\n",
       "      <td>0</td>\n",
       "      <td>196.5</td>\n",
       "      <td>31709</td>\n",
       "      <td>...</td>\n",
       "      <td>4.0</td>\n",
       "      <td>Î´Öª</td>\n",
       "      <td>4</td>\n",
       "      <td>6</td>\n",
       "      <td>0.333</td>\n",
       "      <td>1.0</td>\n",
       "      <td>0.0</td>\n",
       "      <td>0.0</td>\n",
       "      <td>6</td>\n",
       "      <td>48886.0</td>\n",
       "    </tr>\n",
       "    <tr>\n",
       "      <th>309215</th>\n",
       "      <td>https://bj.lianjia.com/chengjiao/BJXC89251032....</td>\n",
       "      <td>BJXC89251032</td>\n",
       "      <td>116.347957</td>\n",
       "      <td>39.888886</td>\n",
       "      <td>1111027379538</td>\n",
       "      <td>2015-04-18</td>\n",
       "      <td>NaN</td>\n",
       "      <td>1</td>\n",
       "      <td>198.0</td>\n",
       "      <td>40884</td>\n",
       "      <td>...</td>\n",
       "      <td>3.0</td>\n",
       "      <td>2006</td>\n",
       "      <td>4</td>\n",
       "      <td>2</td>\n",
       "      <td>0.143</td>\n",
       "      <td>1.0</td>\n",
       "      <td>1.0</td>\n",
       "      <td>1.0</td>\n",
       "      <td>10</td>\n",
       "      <td>78152.0</td>\n",
       "    </tr>\n",
       "    <tr>\n",
       "      <th>...</th>\n",
       "      <td>...</td>\n",
       "      <td>...</td>\n",
       "      <td>...</td>\n",
       "      <td>...</td>\n",
       "      <td>...</td>\n",
       "      <td>...</td>\n",
       "      <td>...</td>\n",
       "      <td>...</td>\n",
       "      <td>...</td>\n",
       "      <td>...</td>\n",
       "      <td>...</td>\n",
       "      <td>...</td>\n",
       "      <td>...</td>\n",
       "      <td>...</td>\n",
       "      <td>...</td>\n",
       "      <td>...</td>\n",
       "      <td>...</td>\n",
       "      <td>...</td>\n",
       "      <td>...</td>\n",
       "      <td>...</td>\n",
       "      <td>...</td>\n",
       "    </tr>\n",
       "    <tr>\n",
       "      <th>246639</th>\n",
       "      <td>https://bj.lianjia.com/chengjiao/BJHD85385552....</td>\n",
       "      <td>BJHD85385552</td>\n",
       "      <td>116.340968</td>\n",
       "      <td>39.985602</td>\n",
       "      <td>1111027382058</td>\n",
       "      <td>2013-01-24</td>\n",
       "      <td>1.0</td>\n",
       "      <td>0</td>\n",
       "      <td>645.0</td>\n",
       "      <td>45109</td>\n",
       "      <td>...</td>\n",
       "      <td>3.0</td>\n",
       "      <td>2000</td>\n",
       "      <td>1</td>\n",
       "      <td>6</td>\n",
       "      <td>0.500</td>\n",
       "      <td>1.0</td>\n",
       "      <td>1.0</td>\n",
       "      <td>1.0</td>\n",
       "      <td>8</td>\n",
       "      <td>81816.0</td>\n",
       "    </tr>\n",
       "    <tr>\n",
       "      <th>130269</th>\n",
       "      <td>https://bj.lianjia.com/chengjiao/BJCY84861053....</td>\n",
       "      <td>BJCY84861053</td>\n",
       "      <td>116.477613</td>\n",
       "      <td>39.934452</td>\n",
       "      <td>1111027379874</td>\n",
       "      <td>2012-10-22</td>\n",
       "      <td>NaN</td>\n",
       "      <td>0</td>\n",
       "      <td>200.0</td>\n",
       "      <td>37658</td>\n",
       "      <td>...</td>\n",
       "      <td>1.0</td>\n",
       "      <td>1999</td>\n",
       "      <td>1</td>\n",
       "      <td>6</td>\n",
       "      <td>0.200</td>\n",
       "      <td>1.0</td>\n",
       "      <td>1.0</td>\n",
       "      <td>1.0</td>\n",
       "      <td>7</td>\n",
       "      <td>61591.0</td>\n",
       "    </tr>\n",
       "    <tr>\n",
       "      <th>117285</th>\n",
       "      <td>https://bj.lianjia.com/chengjiao/BJCP91743402....</td>\n",
       "      <td>BJCP91743402</td>\n",
       "      <td>116.354215</td>\n",
       "      <td>40.083501</td>\n",
       "      <td>1111027378211</td>\n",
       "      <td>2016-04-18</td>\n",
       "      <td>NaN</td>\n",
       "      <td>8</td>\n",
       "      <td>368.0</td>\n",
       "      <td>27339</td>\n",
       "      <td>...</td>\n",
       "      <td>4.0</td>\n",
       "      <td>2003</td>\n",
       "      <td>4</td>\n",
       "      <td>2</td>\n",
       "      <td>0.500</td>\n",
       "      <td>0.0</td>\n",
       "      <td>1.0</td>\n",
       "      <td>0.0</td>\n",
       "      <td>6</td>\n",
       "      <td>39052.0</td>\n",
       "    </tr>\n",
       "    <tr>\n",
       "      <th>152789</th>\n",
       "      <td>https://bj.lianjia.com/chengjiao/BJCY87777978....</td>\n",
       "      <td>BJCY87777978</td>\n",
       "      <td>116.456795</td>\n",
       "      <td>39.973905</td>\n",
       "      <td>1111027380148</td>\n",
       "      <td>2015-05-10</td>\n",
       "      <td>NaN</td>\n",
       "      <td>15</td>\n",
       "      <td>715.0</td>\n",
       "      <td>51377</td>\n",
       "      <td>...</td>\n",
       "      <td>3.0</td>\n",
       "      <td>2004</td>\n",
       "      <td>4</td>\n",
       "      <td>6</td>\n",
       "      <td>0.667</td>\n",
       "      <td>1.0</td>\n",
       "      <td>1.0</td>\n",
       "      <td>1.0</td>\n",
       "      <td>7</td>\n",
       "      <td>86465.0</td>\n",
       "    </tr>\n",
       "    <tr>\n",
       "      <th>282914</th>\n",
       "      <td>https://bj.lianjia.com/chengjiao/BJSY91025991....</td>\n",
       "      <td>BJSY91025991</td>\n",
       "      <td>116.654713</td>\n",
       "      <td>40.185553</td>\n",
       "      <td>1111027379853</td>\n",
       "      <td>2015-12-20</td>\n",
       "      <td>NaN</td>\n",
       "      <td>6</td>\n",
       "      <td>283.0</td>\n",
       "      <td>21790</td>\n",
       "      <td>...</td>\n",
       "      <td>3.0</td>\n",
       "      <td>2009</td>\n",
       "      <td>4</td>\n",
       "      <td>6</td>\n",
       "      <td>0.500</td>\n",
       "      <td>1.0</td>\n",
       "      <td>0.0</td>\n",
       "      <td>0.0</td>\n",
       "      <td>13</td>\n",
       "      <td>32776.0</td>\n",
       "    </tr>\n",
       "  </tbody>\n",
       "</table>\n",
       "<p>159426 rows × 26 columns</p>\n",
       "</div>"
      ],
      "text/plain": [
       "                                                      url            id  \\\n",
       "309684  https://bj.lianjia.com/chengjiao/BJXC89372105....  BJXC89372105   \n",
       "175989  https://bj.lianjia.com/chengjiao/BJCY90221925....  BJCY90221925   \n",
       "134816  https://bj.lianjia.com/chengjiao/BJCY85306798....  BJCY85306798   \n",
       "114098  https://bj.lianjia.com/chengjiao/BJCP90979896....  BJCP90979896   \n",
       "309215  https://bj.lianjia.com/chengjiao/BJXC89251032....  BJXC89251032   \n",
       "...                                                   ...           ...   \n",
       "246639  https://bj.lianjia.com/chengjiao/BJHD85385552....  BJHD85385552   \n",
       "130269  https://bj.lianjia.com/chengjiao/BJCY84861053....  BJCY84861053   \n",
       "117285  https://bj.lianjia.com/chengjiao/BJCP91743402....  BJCP91743402   \n",
       "152789  https://bj.lianjia.com/chengjiao/BJCY87777978....  BJCY87777978   \n",
       "282914  https://bj.lianjia.com/chengjiao/BJSY91025991....  BJSY91025991   \n",
       "\n",
       "               Lng        Lat            Cid   tradeTime  DOM  followers  \\\n",
       "309684  116.360016  39.939659  1111027375999  2015-05-23  1.0          6   \n",
       "175989  116.509143  39.925387  1111027375038  2015-11-07  NaN          5   \n",
       "134816  116.443161  39.923710  1111027377158  2013-01-15  NaN          0   \n",
       "114098  116.336897  40.062254  1111027379085  2015-11-25  1.0          0   \n",
       "309215  116.347957  39.888886  1111027379538  2015-04-18  NaN          1   \n",
       "...            ...        ...            ...         ...  ...        ...   \n",
       "246639  116.340968  39.985602  1111027382058  2013-01-24  1.0          0   \n",
       "130269  116.477613  39.934452  1111027379874  2012-10-22  NaN          0   \n",
       "117285  116.354215  40.083501  1111027378211  2016-04-18  NaN          8   \n",
       "152789  116.456795  39.973905  1111027380148  2015-05-10  NaN         15   \n",
       "282914  116.654713  40.185553  1111027379853  2015-12-20  NaN          6   \n",
       "\n",
       "        totalPrice  price  ...  buildingType constructionTime  \\\n",
       "309684       349.0  55840  ...           3.0             1998   \n",
       "175989       412.0  31346  ...           1.0             2011   \n",
       "134816       898.0  40217  ...           1.0             2000   \n",
       "114098       196.5  31709  ...           4.0             Î´Öª   \n",
       "309215       198.0  40884  ...           3.0             2006   \n",
       "...            ...    ...  ...           ...              ...   \n",
       "246639       645.0  45109  ...           3.0             2000   \n",
       "130269       200.0  37658  ...           1.0             1999   \n",
       "117285       368.0  27339  ...           4.0             2003   \n",
       "152789       715.0  51377  ...           3.0             2004   \n",
       "282914       283.0  21790  ...           3.0             2009   \n",
       "\n",
       "       renovationCondition  buildingStructure ladderRatio elevator  \\\n",
       "309684                   4                  6       0.200      0.0   \n",
       "175989                   3                  6       0.300      1.0   \n",
       "134816                   1                  6       0.400      1.0   \n",
       "114098                   4                  6       0.333      1.0   \n",
       "309215                   4                  2       0.143      1.0   \n",
       "...                    ...                ...         ...      ...   \n",
       "246639                   1                  6       0.500      1.0   \n",
       "130269                   1                  6       0.200      1.0   \n",
       "117285                   4                  2       0.500      0.0   \n",
       "152789                   4                  6       0.667      1.0   \n",
       "282914                   4                  6       0.500      1.0   \n",
       "\n",
       "        fiveYearsProperty subway  district  communityAverage  \n",
       "309684                1.0    1.0        10           96915.0  \n",
       "175989                0.0    1.0         7           56336.0  \n",
       "134816                1.0    1.0         7           50884.0  \n",
       "114098                0.0    0.0         6           48886.0  \n",
       "309215                1.0    1.0        10           78152.0  \n",
       "...                   ...    ...       ...               ...  \n",
       "246639                1.0    1.0         8           81816.0  \n",
       "130269                1.0    1.0         7           61591.0  \n",
       "117285                1.0    0.0         6           39052.0  \n",
       "152789                1.0    1.0         7           86465.0  \n",
       "282914                0.0    0.0        13           32776.0  \n",
       "\n",
       "[159426 rows x 26 columns]"
      ]
     },
     "execution_count": 4,
     "metadata": {},
     "output_type": "execute_result"
    }
   ],
   "source": [
    "df"
   ]
  },
  {
   "cell_type": "markdown",
   "metadata": {},
   "source": [
    "### Printing the first 5 rows of the dataframe"
   ]
  },
  {
   "cell_type": "code",
   "execution_count": 5,
   "metadata": {},
   "outputs": [
    {
     "data": {
      "text/html": [
       "<div>\n",
       "<style scoped>\n",
       "    .dataframe tbody tr th:only-of-type {\n",
       "        vertical-align: middle;\n",
       "    }\n",
       "\n",
       "    .dataframe tbody tr th {\n",
       "        vertical-align: top;\n",
       "    }\n",
       "\n",
       "    .dataframe thead th {\n",
       "        text-align: right;\n",
       "    }\n",
       "</style>\n",
       "<table border=\"1\" class=\"dataframe\">\n",
       "  <thead>\n",
       "    <tr style=\"text-align: right;\">\n",
       "      <th></th>\n",
       "      <th>url</th>\n",
       "      <th>id</th>\n",
       "      <th>Lng</th>\n",
       "      <th>Lat</th>\n",
       "      <th>Cid</th>\n",
       "      <th>tradeTime</th>\n",
       "      <th>DOM</th>\n",
       "      <th>followers</th>\n",
       "      <th>totalPrice</th>\n",
       "      <th>price</th>\n",
       "      <th>...</th>\n",
       "      <th>buildingType</th>\n",
       "      <th>constructionTime</th>\n",
       "      <th>renovationCondition</th>\n",
       "      <th>buildingStructure</th>\n",
       "      <th>ladderRatio</th>\n",
       "      <th>elevator</th>\n",
       "      <th>fiveYearsProperty</th>\n",
       "      <th>subway</th>\n",
       "      <th>district</th>\n",
       "      <th>communityAverage</th>\n",
       "    </tr>\n",
       "  </thead>\n",
       "  <tbody>\n",
       "    <tr>\n",
       "      <th>309684</th>\n",
       "      <td>https://bj.lianjia.com/chengjiao/BJXC89372105....</td>\n",
       "      <td>BJXC89372105</td>\n",
       "      <td>116.360016</td>\n",
       "      <td>39.939659</td>\n",
       "      <td>1111027375999</td>\n",
       "      <td>2015-05-23</td>\n",
       "      <td>1.0</td>\n",
       "      <td>6</td>\n",
       "      <td>349.0</td>\n",
       "      <td>55840</td>\n",
       "      <td>...</td>\n",
       "      <td>3.0</td>\n",
       "      <td>1998</td>\n",
       "      <td>4</td>\n",
       "      <td>6</td>\n",
       "      <td>0.200</td>\n",
       "      <td>0.0</td>\n",
       "      <td>1.0</td>\n",
       "      <td>1.0</td>\n",
       "      <td>10</td>\n",
       "      <td>96915.0</td>\n",
       "    </tr>\n",
       "    <tr>\n",
       "      <th>175989</th>\n",
       "      <td>https://bj.lianjia.com/chengjiao/BJCY90221925....</td>\n",
       "      <td>BJCY90221925</td>\n",
       "      <td>116.509143</td>\n",
       "      <td>39.925387</td>\n",
       "      <td>1111027375038</td>\n",
       "      <td>2015-11-07</td>\n",
       "      <td>NaN</td>\n",
       "      <td>5</td>\n",
       "      <td>412.0</td>\n",
       "      <td>31346</td>\n",
       "      <td>...</td>\n",
       "      <td>1.0</td>\n",
       "      <td>2011</td>\n",
       "      <td>3</td>\n",
       "      <td>6</td>\n",
       "      <td>0.300</td>\n",
       "      <td>1.0</td>\n",
       "      <td>0.0</td>\n",
       "      <td>1.0</td>\n",
       "      <td>7</td>\n",
       "      <td>56336.0</td>\n",
       "    </tr>\n",
       "    <tr>\n",
       "      <th>134816</th>\n",
       "      <td>https://bj.lianjia.com/chengjiao/BJCY85306798....</td>\n",
       "      <td>BJCY85306798</td>\n",
       "      <td>116.443161</td>\n",
       "      <td>39.923710</td>\n",
       "      <td>1111027377158</td>\n",
       "      <td>2013-01-15</td>\n",
       "      <td>NaN</td>\n",
       "      <td>0</td>\n",
       "      <td>898.0</td>\n",
       "      <td>40217</td>\n",
       "      <td>...</td>\n",
       "      <td>1.0</td>\n",
       "      <td>2000</td>\n",
       "      <td>1</td>\n",
       "      <td>6</td>\n",
       "      <td>0.400</td>\n",
       "      <td>1.0</td>\n",
       "      <td>1.0</td>\n",
       "      <td>1.0</td>\n",
       "      <td>7</td>\n",
       "      <td>50884.0</td>\n",
       "    </tr>\n",
       "    <tr>\n",
       "      <th>114098</th>\n",
       "      <td>https://bj.lianjia.com/chengjiao/BJCP90979896....</td>\n",
       "      <td>BJCP90979896</td>\n",
       "      <td>116.336897</td>\n",
       "      <td>40.062254</td>\n",
       "      <td>1111027379085</td>\n",
       "      <td>2015-11-25</td>\n",
       "      <td>1.0</td>\n",
       "      <td>0</td>\n",
       "      <td>196.5</td>\n",
       "      <td>31709</td>\n",
       "      <td>...</td>\n",
       "      <td>4.0</td>\n",
       "      <td>Î´Öª</td>\n",
       "      <td>4</td>\n",
       "      <td>6</td>\n",
       "      <td>0.333</td>\n",
       "      <td>1.0</td>\n",
       "      <td>0.0</td>\n",
       "      <td>0.0</td>\n",
       "      <td>6</td>\n",
       "      <td>48886.0</td>\n",
       "    </tr>\n",
       "    <tr>\n",
       "      <th>309215</th>\n",
       "      <td>https://bj.lianjia.com/chengjiao/BJXC89251032....</td>\n",
       "      <td>BJXC89251032</td>\n",
       "      <td>116.347957</td>\n",
       "      <td>39.888886</td>\n",
       "      <td>1111027379538</td>\n",
       "      <td>2015-04-18</td>\n",
       "      <td>NaN</td>\n",
       "      <td>1</td>\n",
       "      <td>198.0</td>\n",
       "      <td>40884</td>\n",
       "      <td>...</td>\n",
       "      <td>3.0</td>\n",
       "      <td>2006</td>\n",
       "      <td>4</td>\n",
       "      <td>2</td>\n",
       "      <td>0.143</td>\n",
       "      <td>1.0</td>\n",
       "      <td>1.0</td>\n",
       "      <td>1.0</td>\n",
       "      <td>10</td>\n",
       "      <td>78152.0</td>\n",
       "    </tr>\n",
       "  </tbody>\n",
       "</table>\n",
       "<p>5 rows × 26 columns</p>\n",
       "</div>"
      ],
      "text/plain": [
       "                                                      url            id  \\\n",
       "309684  https://bj.lianjia.com/chengjiao/BJXC89372105....  BJXC89372105   \n",
       "175989  https://bj.lianjia.com/chengjiao/BJCY90221925....  BJCY90221925   \n",
       "134816  https://bj.lianjia.com/chengjiao/BJCY85306798....  BJCY85306798   \n",
       "114098  https://bj.lianjia.com/chengjiao/BJCP90979896....  BJCP90979896   \n",
       "309215  https://bj.lianjia.com/chengjiao/BJXC89251032....  BJXC89251032   \n",
       "\n",
       "               Lng        Lat            Cid   tradeTime  DOM  followers  \\\n",
       "309684  116.360016  39.939659  1111027375999  2015-05-23  1.0          6   \n",
       "175989  116.509143  39.925387  1111027375038  2015-11-07  NaN          5   \n",
       "134816  116.443161  39.923710  1111027377158  2013-01-15  NaN          0   \n",
       "114098  116.336897  40.062254  1111027379085  2015-11-25  1.0          0   \n",
       "309215  116.347957  39.888886  1111027379538  2015-04-18  NaN          1   \n",
       "\n",
       "        totalPrice  price  ...  buildingType constructionTime  \\\n",
       "309684       349.0  55840  ...           3.0             1998   \n",
       "175989       412.0  31346  ...           1.0             2011   \n",
       "134816       898.0  40217  ...           1.0             2000   \n",
       "114098       196.5  31709  ...           4.0             Î´Öª   \n",
       "309215       198.0  40884  ...           3.0             2006   \n",
       "\n",
       "       renovationCondition  buildingStructure ladderRatio elevator  \\\n",
       "309684                   4                  6       0.200      0.0   \n",
       "175989                   3                  6       0.300      1.0   \n",
       "134816                   1                  6       0.400      1.0   \n",
       "114098                   4                  6       0.333      1.0   \n",
       "309215                   4                  2       0.143      1.0   \n",
       "\n",
       "        fiveYearsProperty subway  district  communityAverage  \n",
       "309684                1.0    1.0        10           96915.0  \n",
       "175989                0.0    1.0         7           56336.0  \n",
       "134816                1.0    1.0         7           50884.0  \n",
       "114098                0.0    0.0         6           48886.0  \n",
       "309215                1.0    1.0        10           78152.0  \n",
       "\n",
       "[5 rows x 26 columns]"
      ]
     },
     "execution_count": 5,
     "metadata": {},
     "output_type": "execute_result"
    }
   ],
   "source": [
    "df.head(5)"
   ]
  },
  {
   "cell_type": "markdown",
   "metadata": {},
   "source": [
    "### Deleting 'Kitchen' column"
   ]
  },
  {
   "cell_type": "code",
   "execution_count": 6,
   "metadata": {},
   "outputs": [
    {
     "data": {
      "text/plain": [
       "309684    1\n",
       "175989    1\n",
       "134816    1\n",
       "114098    1\n",
       "309215    1\n",
       "         ..\n",
       "246639    1\n",
       "130269    1\n",
       "117285    1\n",
       "152789    1\n",
       "282914    1\n",
       "Name: kitchen, Length: 159426, dtype: int64"
      ]
     },
     "execution_count": 6,
     "metadata": {},
     "output_type": "execute_result"
    }
   ],
   "source": [
    "df.pop('kitchen')"
   ]
  },
  {
   "cell_type": "markdown",
   "metadata": {},
   "source": [
    "### Printing the concise summary of the database"
   ]
  },
  {
   "cell_type": "code",
   "execution_count": 7,
   "metadata": {
    "scrolled": true
   },
   "outputs": [
    {
     "name": "stdout",
     "output_type": "stream",
     "text": [
      "<class 'pandas.core.frame.DataFrame'>\n",
      "Int64Index: 159426 entries, 309684 to 282914\n",
      "Data columns (total 25 columns):\n",
      " #   Column               Non-Null Count   Dtype  \n",
      "---  ------               --------------   -----  \n",
      " 0   url                  159426 non-null  object \n",
      " 1   id                   159426 non-null  object \n",
      " 2   Lng                  159426 non-null  float64\n",
      " 3   Lat                  159426 non-null  float64\n",
      " 4   Cid                  159426 non-null  int64  \n",
      " 5   tradeTime            159426 non-null  object \n",
      " 6   DOM                  80441 non-null   float64\n",
      " 7   followers            159426 non-null  int64  \n",
      " 8   totalPrice           159426 non-null  float64\n",
      " 9   price                159426 non-null  int64  \n",
      " 10  square               159426 non-null  float64\n",
      " 11  livingRoom           159426 non-null  object \n",
      " 12  drawingRoom          159426 non-null  object \n",
      " 13  bathRoom             159426 non-null  object \n",
      " 14  floor                159426 non-null  object \n",
      " 15  buildingType         158419 non-null  float64\n",
      " 16  constructionTime     159426 non-null  object \n",
      " 17  renovationCondition  159426 non-null  int64  \n",
      " 18  buildingStructure    159426 non-null  int64  \n",
      " 19  ladderRatio          159426 non-null  float64\n",
      " 20  elevator             159407 non-null  float64\n",
      " 21  fiveYearsProperty    159407 non-null  float64\n",
      " 22  subway               159407 non-null  float64\n",
      " 23  district             159426 non-null  int64  \n",
      " 24  communityAverage     159203 non-null  float64\n",
      "dtypes: float64(11), int64(6), object(8)\n",
      "memory usage: 31.6+ MB\n"
     ]
    }
   ],
   "source": [
    "df.info()"
   ]
  },
  {
   "cell_type": "markdown",
   "metadata": {},
   "source": [
    "### Deleting 'bathRoom' column"
   ]
  },
  {
   "cell_type": "code",
   "execution_count": 8,
   "metadata": {},
   "outputs": [
    {
     "data": {
      "text/plain": [
       "309684    1\n",
       "175989    1\n",
       "134816    2\n",
       "114098    1\n",
       "309215    1\n",
       "         ..\n",
       "246639    1\n",
       "130269    1\n",
       "117285    2\n",
       "152789    2\n",
       "282914    2\n",
       "Name: bathRoom, Length: 159426, dtype: object"
      ]
     },
     "execution_count": 8,
     "metadata": {},
     "output_type": "execute_result"
    }
   ],
   "source": [
    "df.pop('bathRoom')"
   ]
  },
  {
   "cell_type": "markdown",
   "metadata": {},
   "source": [
    "### Deleting 'drawingRoom' column"
   ]
  },
  {
   "cell_type": "code",
   "execution_count": 9,
   "metadata": {},
   "outputs": [
    {
     "data": {
      "text/plain": [
       "309684    1\n",
       "175989    2\n",
       "134816    2\n",
       "114098    1\n",
       "309215    0\n",
       "         ..\n",
       "246639    2\n",
       "130269    1\n",
       "117285    1\n",
       "152789    2\n",
       "282914    2\n",
       "Name: drawingRoom, Length: 159426, dtype: object"
      ]
     },
     "execution_count": 9,
     "metadata": {},
     "output_type": "execute_result"
    }
   ],
   "source": [
    "df.pop('drawingRoom')"
   ]
  },
  {
   "cell_type": "markdown",
   "metadata": {},
   "source": [
    "### Printing the concise summary of the dataframe"
   ]
  },
  {
   "cell_type": "code",
   "execution_count": 10,
   "metadata": {},
   "outputs": [
    {
     "name": "stdout",
     "output_type": "stream",
     "text": [
      "<class 'pandas.core.frame.DataFrame'>\n",
      "Int64Index: 159426 entries, 309684 to 282914\n",
      "Data columns (total 23 columns):\n",
      " #   Column               Non-Null Count   Dtype  \n",
      "---  ------               --------------   -----  \n",
      " 0   url                  159426 non-null  object \n",
      " 1   id                   159426 non-null  object \n",
      " 2   Lng                  159426 non-null  float64\n",
      " 3   Lat                  159426 non-null  float64\n",
      " 4   Cid                  159426 non-null  int64  \n",
      " 5   tradeTime            159426 non-null  object \n",
      " 6   DOM                  80441 non-null   float64\n",
      " 7   followers            159426 non-null  int64  \n",
      " 8   totalPrice           159426 non-null  float64\n",
      " 9   price                159426 non-null  int64  \n",
      " 10  square               159426 non-null  float64\n",
      " 11  livingRoom           159426 non-null  object \n",
      " 12  floor                159426 non-null  object \n",
      " 13  buildingType         158419 non-null  float64\n",
      " 14  constructionTime     159426 non-null  object \n",
      " 15  renovationCondition  159426 non-null  int64  \n",
      " 16  buildingStructure    159426 non-null  int64  \n",
      " 17  ladderRatio          159426 non-null  float64\n",
      " 18  elevator             159407 non-null  float64\n",
      " 19  fiveYearsProperty    159407 non-null  float64\n",
      " 20  subway               159407 non-null  float64\n",
      " 21  district             159426 non-null  int64  \n",
      " 22  communityAverage     159203 non-null  float64\n",
      "dtypes: float64(11), int64(6), object(6)\n",
      "memory usage: 29.2+ MB\n"
     ]
    }
   ],
   "source": [
    "df.info()"
   ]
  },
  {
   "cell_type": "code",
   "execution_count": 11,
   "metadata": {},
   "outputs": [
    {
     "data": {
      "text/plain": [
       "2         80290\n",
       "1         41093\n",
       "3         33877\n",
       "4          3453\n",
       "5           559\n",
       "6           100\n",
       "7            21\n",
       "#NAME?       19\n",
       "0             9\n",
       "8             3\n",
       "9             2\n",
       "Name: livingRoom, dtype: int64"
      ]
     },
     "execution_count": 11,
     "metadata": {},
     "output_type": "execute_result"
    }
   ],
   "source": [
    "df['livingRoom'].value_counts()"
   ]
  },
  {
   "cell_type": "code",
   "execution_count": 12,
   "metadata": {},
   "outputs": [],
   "source": [
    "df.drop(df.index[df['livingRoom']=='5'], inplace = True)"
   ]
  },
  {
   "cell_type": "code",
   "execution_count": 13,
   "metadata": {},
   "outputs": [
    {
     "data": {
      "text/plain": [
       "2         80290\n",
       "1         41093\n",
       "3         33877\n",
       "4          3453\n",
       "6           100\n",
       "7            21\n",
       "#NAME?       19\n",
       "0             9\n",
       "8             3\n",
       "9             2\n",
       "Name: livingRoom, dtype: int64"
      ]
     },
     "execution_count": 13,
     "metadata": {},
     "output_type": "execute_result"
    }
   ],
   "source": [
    "df['livingRoom'].value_counts()"
   ]
  },
  {
   "cell_type": "markdown",
   "metadata": {},
   "source": [
    "### Setting the range of 'livingRoom' from 1 to 4"
   ]
  },
  {
   "cell_type": "code",
   "execution_count": 14,
   "metadata": {},
   "outputs": [],
   "source": [
    "df.drop(df.index[df['livingRoom']=='6'], inplace = True)"
   ]
  },
  {
   "cell_type": "code",
   "execution_count": 15,
   "metadata": {},
   "outputs": [],
   "source": [
    "df.drop(df.index[df['livingRoom']=='7'], inplace = True)"
   ]
  },
  {
   "cell_type": "code",
   "execution_count": 16,
   "metadata": {},
   "outputs": [],
   "source": [
    "df.drop(df.index[df['livingRoom']=='8'], inplace = True)"
   ]
  },
  {
   "cell_type": "code",
   "execution_count": 17,
   "metadata": {},
   "outputs": [],
   "source": [
    "df.drop(df.index[df['livingRoom']=='9'], inplace = True)"
   ]
  },
  {
   "cell_type": "code",
   "execution_count": 18,
   "metadata": {},
   "outputs": [],
   "source": [
    "df.drop(df.index[df['livingRoom']=='0'], inplace = True)"
   ]
  },
  {
   "cell_type": "code",
   "execution_count": 21,
   "metadata": {},
   "outputs": [],
   "source": [
    "df.drop(df.index[df['livingRoom']=='#NAME?'], inplace = True)"
   ]
  },
  {
   "cell_type": "code",
   "execution_count": 22,
   "metadata": {},
   "outputs": [
    {
     "data": {
      "text/plain": [
       "2    80290\n",
       "1    41093\n",
       "3    33877\n",
       "4     3453\n",
       "Name: livingRoom, dtype: int64"
      ]
     },
     "execution_count": 22,
     "metadata": {},
     "output_type": "execute_result"
    }
   ],
   "source": [
    "df['livingRoom'].value_counts()"
   ]
  },
  {
   "cell_type": "markdown",
   "metadata": {},
   "source": [
    "### Inserting new column 'distance' that calculates the distance of the house from centre of Beijing"
   ]
  },
  {
   "cell_type": "code",
   "execution_count": 23,
   "metadata": {},
   "outputs": [],
   "source": [
    "df.insert(23, 'distance', value = 0 )"
   ]
  },
  {
   "cell_type": "code",
   "execution_count": 24,
   "metadata": {},
   "outputs": [
    {
     "name": "stderr",
     "output_type": "stream",
     "text": [
      "C:\\ProgramData\\Anaconda3\\lib\\site-packages\\pandas\\core\\series.py:679: RuntimeWarning: invalid value encountered in sqrt\n",
      "  result = getattr(ufunc, method)(*inputs, **kwargs)\n"
     ]
    }
   ],
   "source": [
    "df['distance'] = np.sqrt((df['Lat']-116.4683)**2-(df['Lng']-39.9065)**2 )"
   ]
  },
  {
   "cell_type": "code",
   "execution_count": 25,
   "metadata": {},
   "outputs": [
    {
     "data": {
      "text/plain": [
       "309684    3.390101\n",
       "175989         NaN\n",
       "134816    1.101717\n",
       "114098         NaN\n",
       "309215    4.594595\n",
       "            ...   \n",
       "246639    2.715731\n",
       "130269         NaN\n",
       "117285         NaN\n",
       "152789         NaN\n",
       "282914         NaN\n",
       "Name: distance, Length: 158713, dtype: float64"
      ]
     },
     "execution_count": 25,
     "metadata": {},
     "output_type": "execute_result"
    }
   ],
   "source": [
    "df['distance']"
   ]
  },
  {
   "cell_type": "markdown",
   "metadata": {},
   "source": [
    "### Checking if there are any NULL values"
   ]
  },
  {
   "cell_type": "code",
   "execution_count": 26,
   "metadata": {},
   "outputs": [
    {
     "data": {
      "text/plain": [
       "<bound method Series.any of 309684    False\n",
       "175989     True\n",
       "134816    False\n",
       "114098     True\n",
       "309215    False\n",
       "          ...  \n",
       "246639    False\n",
       "130269     True\n",
       "117285     True\n",
       "152789     True\n",
       "282914     True\n",
       "Name: distance, Length: 158713, dtype: bool>"
      ]
     },
     "execution_count": 26,
     "metadata": {},
     "output_type": "execute_result"
    }
   ],
   "source": [
    "df['distance'].isnull().any"
   ]
  },
  {
   "cell_type": "markdown",
   "metadata": {},
   "source": [
    "### Renaming 'constructionTime' column to 'age'"
   ]
  },
  {
   "cell_type": "code",
   "execution_count": 27,
   "metadata": {},
   "outputs": [],
   "source": [
    "df.rename(columns = {'constructionTime': 'age'}, inplace = True)"
   ]
  },
  {
   "cell_type": "code",
   "execution_count": 28,
   "metadata": {},
   "outputs": [
    {
     "data": {
      "text/plain": [
       "309684    1998\n",
       "175989    2011\n",
       "134816    2000\n",
       "114098    Î´Öª\n",
       "309215    2006\n",
       "          ... \n",
       "246639    2000\n",
       "130269    1999\n",
       "117285    2003\n",
       "152789    2004\n",
       "282914    2009\n",
       "Name: age, Length: 158713, dtype: object"
      ]
     },
     "execution_count": 28,
     "metadata": {},
     "output_type": "execute_result"
    }
   ],
   "source": [
    "df['age']"
   ]
  },
  {
   "cell_type": "markdown",
   "metadata": {},
   "source": [
    "### Dropping the rows containg garbage values "
   ]
  },
  {
   "cell_type": "code",
   "execution_count": 29,
   "metadata": {},
   "outputs": [],
   "source": [
    "df.drop(df.index[df['age'] == \"Î´Öª\"], inplace = True)\n",
    "df['age'] = pd.to_numeric(df['age'])"
   ]
  },
  {
   "cell_type": "markdown",
   "metadata": {},
   "source": [
    "### Deducting the year that the house constructed from the current year (2019)."
   ]
  },
  {
   "cell_type": "code",
   "execution_count": 30,
   "metadata": {},
   "outputs": [],
   "source": [
    "df['age'] = 2019 - df['age']"
   ]
  },
  {
   "cell_type": "code",
   "execution_count": 31,
   "metadata": {},
   "outputs": [
    {
     "data": {
      "text/plain": [
       "309684    21\n",
       "175989     8\n",
       "134816    19\n",
       "309215    13\n",
       "254826    29\n",
       "          ..\n",
       "246639    19\n",
       "130269    20\n",
       "117285    16\n",
       "152789    15\n",
       "282914    10\n",
       "Name: age, Length: 149217, dtype: int64"
      ]
     },
     "execution_count": 31,
     "metadata": {},
     "output_type": "execute_result"
    }
   ],
   "source": [
    "df['age']"
   ]
  },
  {
   "cell_type": "code",
   "execution_count": 32,
   "metadata": {},
   "outputs": [
    {
     "data": {
      "text/plain": [
       "False"
      ]
     },
     "execution_count": 32,
     "metadata": {},
     "output_type": "execute_result"
    }
   ],
   "source": [
    "df['square'].isnull().any()"
   ]
  },
  {
   "cell_type": "markdown",
   "metadata": {},
   "source": [
    "### Dropping the values of 'price' which are below 20000"
   ]
  },
  {
   "cell_type": "code",
   "execution_count": 34,
   "metadata": {},
   "outputs": [],
   "source": [
    "df.drop(df.index[df['price'] < 20000], inplace = True)"
   ]
  },
  {
   "cell_type": "markdown",
   "metadata": {},
   "source": [
    "### Dropping the values of 'square' which are below 40"
   ]
  },
  {
   "cell_type": "code",
   "execution_count": 6,
   "metadata": {},
   "outputs": [],
   "source": [
    "df.drop(df.index[df['square'] < 40], inplace = True)"
   ]
  },
  {
   "cell_type": "markdown",
   "metadata": {},
   "source": [
    "### Splitting the attribute “floor” into attributes “floorType” and “floorHeight”"
   ]
  },
  {
   "cell_type": "code",
   "execution_count": 38,
   "metadata": {},
   "outputs": [],
   "source": [
    "df[['floorType', 'floorHeight']] = df.floor.str.split(expand = True)"
   ]
  },
  {
   "cell_type": "code",
   "execution_count": 40,
   "metadata": {},
   "outputs": [
    {
     "data": {
      "text/plain": [
       "309684    12\n",
       "175989    33\n",
       "134816    21\n",
       "309215     8\n",
       "254826     6\n",
       "          ..\n",
       "246639    14\n",
       "130269    20\n",
       "117285     5\n",
       "152789    28\n",
       "282914    11\n",
       "Name: floorHeight, Length: 132815, dtype: object"
      ]
     },
     "execution_count": 40,
     "metadata": {},
     "output_type": "execute_result"
    }
   ],
   "source": [
    "df['floorHeight']"
   ]
  },
  {
   "cell_type": "code",
   "execution_count": 41,
   "metadata": {},
   "outputs": [
    {
     "data": {
      "text/plain": [
       "309684    ÖÐ\n",
       "175989    µÍ\n",
       "134816    ÖÐ\n",
       "309215    ÖÐ\n",
       "254826    ÖÐ\n",
       "          ..\n",
       "246639    ¸ß\n",
       "130269    µÍ\n",
       "117285    ÖÐ\n",
       "152789    ¶¥\n",
       "282914    µÍ\n",
       "Name: floorType, Length: 132815, dtype: object"
      ]
     },
     "execution_count": 41,
     "metadata": {},
     "output_type": "execute_result"
    }
   ],
   "source": [
    "df['floorType']"
   ]
  },
  {
   "cell_type": "markdown",
   "metadata": {},
   "source": [
    "### Plotting graph  'Lat' vs 'Lng' which depicts the age distribution"
   ]
  },
  {
   "cell_type": "code",
   "execution_count": 43,
   "metadata": {},
   "outputs": [
    {
     "data": {
      "text/plain": [
       "<matplotlib.colorbar.Colorbar at 0x1c65bdab908>"
      ]
     },
     "execution_count": 43,
     "metadata": {},
     "output_type": "execute_result"
    },
    {
     "data": {
      "image/png": "[encoded data removed]",
      "text/plain": [
       "<Figure size 432x288 with 2 Axes>"
      ]
     },
     "metadata": {
      "needs_background": "light"
     },
     "output_type": "display_data"
    }
   ],
   "source": [
    "##series = df[[df['age']>=5  and df['age'] <= 45]]\n",
    "df.insert(26, 'age1', value = df['age'])\n",
    "df.drop(df.index[df['age1'] > 45], inplace = True)\n",
    "colors = np.array(df['age1'])\n",
    "plt.scatter(df['Lat'], df['Lng'], c = colors, cmap = 'nipy_spectral')\n",
    "plt.colorbar()\n"
   ]
  },
  {
   "cell_type": "markdown",
   "metadata": {},
   "source": [
    "### Plotting graph 'Lat' vs 'Lng' which depicts the price distribution"
   ]
  },
  {
   "cell_type": "code",
   "execution_count": 44,
   "metadata": {
    "scrolled": true
   },
   "outputs": [
    {
     "data": {
      "text/plain": [
       "<matplotlib.colorbar.Colorbar at 0x1c65bceae88>"
      ]
     },
     "execution_count": 44,
     "metadata": {},
     "output_type": "execute_result"
    },
    {
     "data": {
      "image/png": "[encoded data removed]",
      "text/plain": [
       "<Figure size 432x288 with 2 Axes>"
      ]
     },
     "metadata": {
      "needs_background": "light"
     },
     "output_type": "display_data"
    }
   ],
   "source": [
    "##series = df[[df['age']>=5  and df['age'] <= 45]]\n",
    "\n",
    "colors = np.array(df['price'])\n",
    "plt.scatter(df['Lat'], df['Lng'], c = colors, cmap = 'nipy_spectral')\n",
    "plt.colorbar()\n",
    "\n"
   ]
  },
  {
   "cell_type": "markdown",
   "metadata": {},
   "source": [
    "### Plotting the Boxplot which depicts the correlation between District and Price"
   ]
  },
  {
   "cell_type": "code",
   "execution_count": 45,
   "metadata": {},
   "outputs": [
    {
     "data": {
      "text/plain": [
       "<matplotlib.axes._subplots.AxesSubplot at 0x1c65bca8f88>"
      ]
     },
     "execution_count": 45,
     "metadata": {},
     "output_type": "execute_result"
    },
    {
     "data": {
      "image/png": "[encoded data removed]",
      "text/plain": [
       "<Figure size 432x288 with 1 Axes>"
      ]
     },
     "metadata": {
      "needs_background": "light"
     },
     "output_type": "display_data"
    }
   ],
   "source": [
    "sb.boxplot(df['district'], df['price'])"
   ]
  },
  {
   "cell_type": "markdown",
   "metadata": {},
   "source": [
    "### Plotting Boxplot which depicts the correlatoin between Building Type and Price"
   ]
  },
  {
   "cell_type": "code",
   "execution_count": 46,
   "metadata": {},
   "outputs": [
    {
     "data": {
      "text/plain": [
       "<matplotlib.axes._subplots.AxesSubplot at 0x1c65af1af88>"
      ]
     },
     "execution_count": 46,
     "metadata": {},
     "output_type": "execute_result"
    },
    {
     "data": {
      "image/png": "[encoded data removed]",
      "text/plain": [
       "<Figure size 432x288 with 1 Axes>"
      ]
     },
     "metadata": {
      "needs_background": "light"
     },
     "output_type": "display_data"
    }
   ],
   "source": [
    "sb.boxplot(df['buildingType'], df['price'])"
   ]
  },
  {
   "cell_type": "markdown",
   "metadata": {},
   "source": [
    "### Plotting Boxplot which depicts the correlation between Building Type and Area"
   ]
  },
  {
   "cell_type": "code",
   "execution_count": 47,
   "metadata": {},
   "outputs": [
    {
     "data": {
      "text/plain": [
       "(0, 160)"
      ]
     },
     "execution_count": 47,
     "metadata": {},
     "output_type": "execute_result"
    },
    {
     "data": {
      "image/png": "[encoded data removed]",
      "text/plain": [
       "<Figure size 432x288 with 1 Axes>"
      ]
     },
     "metadata": {
      "needs_background": "light"
     },
     "output_type": "display_data"
    }
   ],
   "source": [
    "sb.boxplot(df['buildingType'], df['square'])\n",
    "plt.ylim(0, 160)"
   ]
  },
  {
   "cell_type": "markdown",
   "metadata": {},
   "source": [
    "### Dropping all the rows having NULL/NaN values"
   ]
  },
  {
   "cell_type": "code",
   "execution_count": 52,
   "metadata": {},
   "outputs": [],
   "source": [
    "df.dropna(axis = 0, inplace = True)"
   ]
  },
  {
   "cell_type": "markdown",
   "metadata": {},
   "source": [
    "### Converting dataframe column 'price' into array and assigning it to y"
   ]
  },
  {
   "cell_type": "code",
   "execution_count": 8,
   "metadata": {},
   "outputs": [],
   "source": [
    "y = df.loc[:, 'price'].values"
   ]
  },
  {
   "cell_type": "markdown",
   "metadata": {},
   "source": [
    "### Converting all the numerical attributes into arrays and assigning it to x"
   ]
  },
  {
   "cell_type": "code",
   "execution_count": 55,
   "metadata": {},
   "outputs": [],
   "source": [
    "x = df.loc[:, ['followers', 'square', 'livingRoom', 'age',  'ladderRatio', 'elevator', 'fiveYearsProperty', 'subway', 'distance', 'buildingType', 'renovationCondition', 'buildingStructure', 'district', 'floorHeight', 'communityAverage']].values"
   ]
  },
  {
   "cell_type": "markdown",
   "metadata": {},
   "source": [
    "### Performing OneHotEncoding to all categorical attributes"
   ]
  },
  {
   "cell_type": "code",
   "execution_count": 57,
   "metadata": {},
   "outputs": [],
   "source": [
    "ct = ColumnTransformer([('encoder', OneHotEncoder(), [12])], remainder = 'passthrough')\n",
    "x = ct.fit_transform(x)"
   ]
  },
  {
   "cell_type": "code",
   "execution_count": 58,
   "metadata": {
    "scrolled": true
   },
   "outputs": [],
   "source": [
    "ct = ColumnTransformer([('encoder', OneHotEncoder(), [24])], remainder = 'passthrough')\n",
    "x = ct.fit_transform(x)"
   ]
  },
  {
   "cell_type": "code",
   "execution_count": 59,
   "metadata": {},
   "outputs": [],
   "source": [
    "ct = ColumnTransformer([('encoder', OneHotEncoder(), [29])], remainder = 'passthrough')\n",
    "x = ct.fit_transform(x)"
   ]
  },
  {
   "cell_type": "code",
   "execution_count": 60,
   "metadata": {},
   "outputs": [],
   "source": [
    "\n",
    "ct = ColumnTransformer([('encoder', OneHotEncoder(), [32])], remainder = 'passthrough')\n",
    "x = ct.fit_transform(x)"
   ]
  },
  {
   "cell_type": "code",
   "execution_count": 61,
   "metadata": {},
   "outputs": [
    {
     "data": {
      "text/plain": [
       "(33174, 61)"
      ]
     },
     "execution_count": 61,
     "metadata": {},
     "output_type": "execute_result"
    }
   ],
   "source": [
    "x.shape"
   ]
  },
  {
   "cell_type": "code",
   "execution_count": 62,
   "metadata": {},
   "outputs": [],
   "source": [
    "sc = StandardScaler()\n",
    "x = sc.fit_transform(x)"
   ]
  },
  {
   "cell_type": "code",
   "execution_count": 63,
   "metadata": {},
   "outputs": [],
   "source": [
    "df = df.dropna(inplace = True)"
   ]
  },
  {
   "cell_type": "code",
   "execution_count": 64,
   "metadata": {},
   "outputs": [],
   "source": [
    "x_train, x_test, y_train, y_test = train_test_split(x, y, test_size = 0.3)"
   ]
  },
  {
   "cell_type": "code",
   "execution_count": 65,
   "metadata": {},
   "outputs": [
    {
     "data": {
      "text/plain": [
       "RandomForestClassifier(bootstrap=True, ccp_alpha=0.0, class_weight=None,\n",
       "                       criterion='gini', max_depth=6, max_features='auto',\n",
       "                       max_leaf_nodes=None, max_samples=None,\n",
       "                       min_impurity_decrease=0.0, min_impurity_split=None,\n",
       "                       min_samples_leaf=1, min_samples_split=2,\n",
       "                       min_weight_fraction_leaf=0.0, n_estimators=10,\n",
       "                       n_jobs=None, oob_score=False, random_state=None,\n",
       "                       verbose=0, warm_start=False)"
      ]
     },
     "execution_count": 65,
     "metadata": {},
     "output_type": "execute_result"
    }
   ],
   "source": [
    "clf = RandomForestClassifier(max_depth = 6, n_estimators = 10)\n",
    "clf.fit(x_train, y_train)\n",
    "#y_predict = clf.predict(x_test)"
   ]
  },
  {
   "cell_type": "code",
   "execution_count": 66,
   "metadata": {},
   "outputs": [
    {
     "data": {
      "text/plain": [
       "4217"
      ]
     },
     "execution_count": 66,
     "metadata": {},
     "output_type": "execute_result"
    }
   ],
   "source": [
    "import gc\n",
    "\n",
    "gc.collect()"
   ]
  },
  {
   "cell_type": "code",
   "execution_count": 67,
   "metadata": {},
   "outputs": [],
   "source": [
    "y_predict = clf.predict(x_test)"
   ]
  },
  {
   "cell_type": "code",
   "execution_count": 68,
   "metadata": {},
   "outputs": [
    {
     "data": {
      "text/plain": [
       "array([ 50000,  50000, 115480, ...,  50000,  50000,  50000], dtype=int64)"
      ]
     },
     "execution_count": 68,
     "metadata": {},
     "output_type": "execute_result"
    }
   ],
   "source": [
    "y_predict"
   ]
  },
  {
   "cell_type": "code",
   "execution_count": 69,
   "metadata": {},
   "outputs": [
    {
     "data": {
      "text/plain": [
       "array([45781, 63305, 66064, ..., 30744, 46552, 51876], dtype=int64)"
      ]
     },
     "execution_count": 69,
     "metadata": {},
     "output_type": "execute_result"
    }
   ],
   "source": [
    "y_test"
   ]
  },
  {
   "cell_type": "code",
   "execution_count": 70,
   "metadata": {},
   "outputs": [
    {
     "data": {
      "text/plain": [
       "0.18114596100069186"
      ]
     },
     "execution_count": 70,
     "metadata": {},
     "output_type": "execute_result"
    }
   ],
   "source": [
    "mean_squared_log_error(y_test, y_predict)"
   ]
  },
  {
   "cell_type": "code",
   "execution_count": 71,
   "metadata": {},
   "outputs": [],
   "source": [
    "#XGB\n",
    "xgb = XGBRegressor(learning_rate = 0.1, n_estimators = 200, min_child_weight = 2, subsample = 1, colsample_bytre = 0.8, reg_lambda = 0.45, reg_alpha = 0, gamma = 0.5)\n"
   ]
  },
  {
   "cell_type": "code",
   "execution_count": 72,
   "metadata": {},
   "outputs": [
    {
     "name": "stdout",
     "output_type": "stream",
     "text": [
      "[21:53:04] WARNING: ..\\src\\learner.cc:573: \n",
      "Parameters: { \"colsample_bytre\" } might not be used.\n",
      "\n",
      "  This may not be accurate due to some parameters are only used in language bindings but\n",
      "  passed down to XGBoost core.  Or some parameters are not used but slip through this\n",
      "  verification. Please open an issue if you find above cases.\n",
      "\n",
      "\n"
     ]
    },
    {
     "data": {
      "text/plain": [
       "XGBRegressor(base_score=0.5, booster='gbtree', colsample_bylevel=1,\n",
       "             colsample_bynode=1, colsample_bytre=0.8, colsample_bytree=1,\n",
       "             gamma=0.5, gpu_id=-1, importance_type='gain',\n",
       "             interaction_constraints='', learning_rate=0.1, max_delta_step=0,\n",
       "             max_depth=6, min_child_weight=2, missing=nan,\n",
       "             monotone_constraints='()', n_estimators=200, n_jobs=8,\n",
       "             num_parallel_tree=1, objective='reg:squarederror', random_state=0,\n",
       "             reg_alpha=0, reg_lambda=0.45, scale_pos_weight=1, subsample=1,\n",
       "             tree_method='exact', validate_parameters=1, verbosity=None)"
      ]
     },
     "execution_count": 72,
     "metadata": {},
     "output_type": "execute_result"
    }
   ],
   "source": [
    "xgb.fit(x_train, y_train)"
   ]
  },
  {
   "cell_type": "code",
   "execution_count": 73,
   "metadata": {},
   "outputs": [],
   "source": [
    "yxgb_predict = xgb.predict(x_test)"
   ]
  },
  {
   "cell_type": "code",
   "execution_count": 74,
   "metadata": {},
   "outputs": [
    {
     "data": {
      "text/plain": [
       "array([44873.125, 86265.05 , 56786.2  , ..., 38175.76 , 47685.918,\n",
       "       42037.   ], dtype=float32)"
      ]
     },
     "execution_count": 74,
     "metadata": {},
     "output_type": "execute_result"
    }
   ],
   "source": [
    "yxgb_predict"
   ]
  },
  {
   "cell_type": "code",
   "execution_count": 75,
   "metadata": {},
   "outputs": [
    {
     "data": {
      "text/plain": [
       "0.05835385192822959"
      ]
     },
     "execution_count": 75,
     "metadata": {},
     "output_type": "execute_result"
    }
   ],
   "source": [
    "mean_squared_log_error(y_test, yxgb_predict)"
   ]
  },
  {
   "cell_type": "code",
   "execution_count": 79,
   "metadata": {},
   "outputs": [],
   "source": [
    "lgbm = LGBMRegressor(learning_rate = 0.15, n_estimators = 64, min_child_weight = 2, num_leaves = 36, colsample_bytree = 0.8, reg_lambda = 0.40)"
   ]
  },
  {
   "cell_type": "code",
   "execution_count": 80,
   "metadata": {},
   "outputs": [
    {
     "data": {
      "text/plain": [
       "LGBMRegressor(boosting_type='gbdt', class_weight=None, colsample_bytree=0.8,\n",
       "              importance_type='split', learning_rate=0.15, max_depth=-1,\n",
       "              min_child_samples=20, min_child_weight=2, min_split_gain=0.0,\n",
       "              n_estimators=64, n_jobs=-1, num_leaves=36, objective=None,\n",
       "              random_state=None, reg_alpha=0.0, reg_lambda=0.4, silent=True,\n",
       "              subsample=1.0, subsample_for_bin=200000, subsample_freq=0)"
      ]
     },
     "execution_count": 80,
     "metadata": {},
     "output_type": "execute_result"
    }
   ],
   "source": [
    "lgbm.fit(x_train, y_train)"
   ]
  },
  {
   "cell_type": "code",
   "execution_count": 81,
   "metadata": {},
   "outputs": [],
   "source": [
    "ylgbm = lgbm.predict(x_test) "
   ]
  },
  {
   "cell_type": "code",
   "execution_count": 82,
   "metadata": {},
   "outputs": [
    {
     "data": {
      "text/plain": [
       "array([43656.55229159, 70082.65291043, 60964.65056028, ...,\n",
       "       38394.32276685, 46866.62998199, 41731.89640863])"
      ]
     },
     "execution_count": 82,
     "metadata": {},
     "output_type": "execute_result"
    }
   ],
   "source": [
    "ylgbm"
   ]
  },
  {
   "cell_type": "code",
   "execution_count": 83,
   "metadata": {},
   "outputs": [
    {
     "data": {
      "text/plain": [
       "0.05893817678366487"
      ]
     },
     "execution_count": 83,
     "metadata": {},
     "output_type": "execute_result"
    }
   ],
   "source": [
    "mean_squared_log_error(y_test, ylgbm)"
   ]
  },
  {
   "cell_type": "code",
   "execution_count": 93,
   "metadata": {},
   "outputs": [
    {
     "data": {
      "text/plain": [
       "<matplotlib.axes._subplots.AxesSubplot at 0x1c6552fd508>"
      ]
     },
     "execution_count": 93,
     "metadata": {},
     "output_type": "execute_result"
    },
    {
     "data": {
      "image/png": "[encoded data removed]",
      "text/plain": [
       "<Figure size 432x288 with 1 Axes>"
      ]
     },
     "metadata": {
      "needs_background": "light"
     },
     "output_type": "display_data"
    }
   ],
   "source": [
    "sb.regplot(ylgbm, y_test, line_kws = {\"color\" : \"orange\"})"
   ]
  },
  {
   "cell_type": "code",
   "execution_count": null,
   "metadata": {},
   "outputs": [],
   "source": []
  }
 ],
 "metadata": {
  "kernelspec": {
   "display_name": "Python 3 (ipykernel)",
   "language": "python",
   "name": "python3"
  },
  "language_info": {
   "codemirror_mode": {
    "name": "ipython",
    "version": 3
   },
   "file_extension": ".py",
   "mimetype": "text/x-python",
   "name": "python",
   "nbconvert_exporter": "python",
   "pygments_lexer": "ipython3",
   "version": "3.11.5"
  }
 },
 "nbformat": 4,
 "nbformat_minor": 4
}
